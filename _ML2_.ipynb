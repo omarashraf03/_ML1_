{
 "cells": [
  {
   "cell_type": "code",
   "execution_count": 33,
   "metadata": {
    "dotnet_interactive": {
     "language": "csharp"
    },
    "polyglot_notebook": {
     "kernelName": "csharp"
    }
   },
   "outputs": [],
   "source": [
    "import pandas as pd\n",
    "import numpy as np\n",
    "from sklearn.datasets import make_regression"
   ]
  },
  {
   "cell_type": "code",
   "execution_count": 34,
   "metadata": {},
   "outputs": [],
   "source": [
    "X , y = make_regression(n_samples=1000 , n_features=3 , noise=10 , random_state=42)"
   ]
  },
  {
   "cell_type": "code",
   "execution_count": 35,
   "metadata": {},
   "outputs": [
    {
     "name": "stdout",
     "output_type": "stream",
     "text": [
      "(1000, 3)\n"
     ]
    }
   ],
   "source": [
    "print(X.shape)"
   ]
  },
  {
   "cell_type": "code",
   "execution_count": 36,
   "metadata": {},
   "outputs": [
    {
     "name": "stdout",
     "output_type": "stream",
     "text": [
      "(1000,)\n"
     ]
    }
   ],
   "source": [
    "print(y.shape)"
   ]
  },
  {
   "cell_type": "code",
   "execution_count": 37,
   "metadata": {},
   "outputs": [],
   "source": [
    "X = np.c_[np.ones(X.shape[0]), X]"
   ]
  },
  {
   "cell_type": "code",
   "execution_count": 38,
   "metadata": {},
   "outputs": [],
   "source": [
    "y = y.reshape(len(y),1)"
   ]
  },
  {
   "cell_type": "code",
   "execution_count": 39,
   "metadata": {},
   "outputs": [],
   "source": [
    "from sklearn.model_selection import train_test_split\n",
    "X_train, X_test, y_train, y_test = train_test_split(X, y, test_size=0.2, random_state=42)"
   ]
  },
  {
   "cell_type": "code",
   "execution_count": 40,
   "metadata": {},
   "outputs": [],
   "source": [
    "def calculate_loss(X, y, weights):\n",
    "    \n",
    "# # Example data\n",
    "# X = np.array([[1, 2], [3, 4], [5, 6]])  \n",
    "# y = np.array([5, 11, 17])              \n",
    "# weights = np.array([1, 1])             \n",
    "\n",
    "    #  Calculate predictions by multiplying inputs (X) with weights:)\n",
    "    predictions = X.dot(weights)    #predictions=[1⋅1+2⋅1,3⋅1+4⋅1,5⋅1+6⋅1]=[3,7,11]\n",
    "    \n",
    "    #  Calculate the errors (difference between predictions and actual values):)\n",
    "    errors = predictions - y  #errors=[3−5,7−11,11−17]=[−2,−4,−6]\n",
    "    \n",
    "    # Calculate Mean Squared Error (MSE):)\n",
    "    mse = np.mean(errors ** 2)   #mse=error **2/the number of samples  \n",
    "    \n",
    "    #  Divide by 2 to match the gradient calculation format:)\n",
    "    loss = mse / 2  \n",
    "    \n",
    "    return loss"
   ]
  },
  {
   "cell_type": "markdown",
   "metadata": {},
   "source": [
    "Gradient Descent"
   ]
  },
  {
   "cell_type": "code",
   "execution_count": 41,
   "metadata": {},
   "outputs": [],
   "source": [
    "def gradient_descent(X, y, num_iterations , freq_print):\n",
    "    alpha = 0.001\n",
    "    W = np.random.randn(X.shape[1], 1)\n",
    "    for i in range(num_iterations) :    \n",
    "        yhat = X.dot(W)\n",
    "        error = yhat - y\n",
    "        gradient = X.T.dot(error)\n",
    "        W = W - alpha * gradient / len(X)\n",
    "        if i % freq_print == 0:\n",
    "            print(calculate_loss(X , y , W))\n",
    "        \n",
    "        \n",
    "    return W             "
   ]
  },
  {
   "cell_type": "code",
   "execution_count": 42,
   "metadata": {},
   "outputs": [
    {
     "name": "stdout",
     "output_type": "stream",
     "text": [
      "8286.973191454455\n",
      "1213.365297322454\n",
      "227.54996607124443\n",
      "78.61304255925344\n",
      "54.3066847397514\n",
      "50.059250230265064\n",
      "49.274456355121345\n",
      "49.12320233037655\n",
      "49.093162516195456\n",
      "49.08707330101065\n"
     ]
    }
   ],
   "source": [
    "W = gradient_descent(X_test , y_test , 10000 , 1000)"
   ]
  },
  {
   "cell_type": "code",
   "execution_count": 43,
   "metadata": {},
   "outputs": [
    {
     "data": {
      "text/plain": [
       "array([[ 1.60748524],\n",
       "       [98.19403829],\n",
       "       [81.9839016 ],\n",
       "       [25.92542381]])"
      ]
     },
     "execution_count": 43,
     "metadata": {},
     "output_type": "execute_result"
    }
   ],
   "source": [
    "W "
   ]
  },
  {
   "cell_type": "markdown",
   "metadata": {},
   "source": [
    "To test the gradient descent"
   ]
  },
  {
   "cell_type": "markdown",
   "metadata": {},
   "source": [
    "this function give the most efficient weight and I print the loss for this weight"
   ]
  },
  {
   "cell_type": "code",
   "execution_count": 44,
   "metadata": {},
   "outputs": [],
   "source": [
    "def least_weight(X, y):\n",
    "    X_transpose = X.T\n",
    "    W = np.linalg.inv(X_transpose @ X) @ X_transpose @ y\n",
    "    \n",
    "    \n",
    "    print(calculate_loss(X , y , W))\n",
    "    "
   ]
  },
  {
   "cell_type": "markdown",
   "metadata": {},
   "source": [
    "print the output for the test data withe the most efficient weights"
   ]
  },
  {
   "cell_type": "code",
   "execution_count": 45,
   "metadata": {},
   "outputs": [
    {
     "name": "stdout",
     "output_type": "stream",
     "text": [
      "49.08549457182744\n"
     ]
    }
   ],
   "source": [
    "least_weight(X_test,y_test)"
   ]
  },
  {
   "cell_type": "markdown",
   "metadata": {},
   "source": [
    "The gradient descent final loss output is almost equal to the least loss output.......................\n",
    "                                   49.087106110189694  |||  49.08549457182744"
   ]
  },
  {
   "cell_type": "markdown",
   "metadata": {},
   "source": [
    "Predicting the output for the test data"
   ]
  },
  {
   "cell_type": "code",
   "execution_count": 46,
   "metadata": {},
   "outputs": [],
   "source": [
    "def predict(W, X):\n",
    "    return X.dot(W)"
   ]
  },
  {
   "cell_type": "code",
   "execution_count": 47,
   "metadata": {},
   "outputs": [],
   "source": [
    "predictions = predict(W, X_test)"
   ]
  },
  {
   "cell_type": "code",
   "execution_count": 48,
   "metadata": {},
   "outputs": [],
   "source": [
    "comp = np.concatenate((predictions.reshape(len(predictions),1),y_test),axis=1)"
   ]
  },
  {
   "cell_type": "code",
   "execution_count": 49,
   "metadata": {},
   "outputs": [
    {
     "data": {
      "text/plain": [
       "array([[-7.48483278e+01, -8.22932793e+01],\n",
       "       [ 1.12992996e+02,  1.04807640e+02],\n",
       "       [ 5.10999555e+01,  5.51531708e+01],\n",
       "       [ 1.80672620e+02,  1.75842100e+02],\n",
       "       [-2.25487525e+01, -1.28221444e+01],\n",
       "       [-1.62556842e+02, -1.58696775e+02],\n",
       "       [ 1.34343292e+02,  1.17792000e+02],\n",
       "       [ 6.92086175e+01,  6.45922450e+01],\n",
       "       [ 2.31856093e+02,  2.36283381e+02],\n",
       "       [-1.12752366e+02, -1.09113405e+02],\n",
       "       [-1.06859854e+02, -1.03799700e+02],\n",
       "       [ 1.18703754e+02,  1.14628724e+02],\n",
       "       [ 3.13581739e+01,  3.15693700e+01],\n",
       "       [-1.59157825e+01,  2.21697784e+00],\n",
       "       [ 3.81886253e+01,  4.32591823e+01],\n",
       "       [-4.93421719e+01, -4.58647575e+01],\n",
       "       [-1.90627203e+02, -1.81070715e+02],\n",
       "       [ 6.19597556e+01,  7.58102653e+01],\n",
       "       [-7.78958435e+00, -6.02334948e+00],\n",
       "       [ 4.37301199e+01,  2.62678736e+01],\n",
       "       [ 1.02933511e+02,  1.01897247e+02],\n",
       "       [ 3.86023774e+01,  4.45269699e+01],\n",
       "       [-1.27621237e+02, -1.25496420e+02],\n",
       "       [ 1.58378397e+01,  2.63333998e+01],\n",
       "       [-1.71955880e+02, -1.73388531e+02],\n",
       "       [ 9.24816435e+01,  7.71651941e+01],\n",
       "       [ 3.04232835e+00, -4.21694282e+00],\n",
       "       [-7.23975068e+01, -7.87729556e+01],\n",
       "       [-6.44760885e+01, -7.56552397e+01],\n",
       "       [-4.84702682e+01, -4.01197625e+01],\n",
       "       [ 1.35677436e+02,  1.28330273e+02],\n",
       "       [-5.65451637e+01, -4.92045714e+01],\n",
       "       [ 7.78076166e+01,  7.75149528e+01],\n",
       "       [-3.00458928e+02, -3.08577881e+02],\n",
       "       [ 3.57111387e+01,  3.42485328e+01],\n",
       "       [-9.51758368e+00, -2.04777288e+00],\n",
       "       [-9.42700906e+01, -9.96816300e+01],\n",
       "       [ 1.92616295e+02,  2.06360985e+02],\n",
       "       [-9.28543608e+01, -1.03339227e+02],\n",
       "       [ 3.58478181e+02,  3.50629206e+02],\n",
       "       [ 5.64368270e+01,  6.75980784e+01],\n",
       "       [ 9.37616719e+01,  1.00790894e+02],\n",
       "       [-7.42404494e+01, -8.98388889e+01],\n",
       "       [ 7.89323983e+01,  9.07312749e+01],\n",
       "       [ 9.00269142e+01,  8.61367727e+01],\n",
       "       [ 1.59698092e+02,  1.50428411e+02],\n",
       "       [-5.31167952e+01, -7.02896451e+01],\n",
       "       [ 6.34377522e+01,  5.42356769e+01],\n",
       "       [-1.09124117e+02, -1.14250789e+02],\n",
       "       [ 5.25367312e+01,  7.35820355e+01],\n",
       "       [ 2.02633532e+02,  1.96236913e+02],\n",
       "       [-2.82430385e+01, -1.78605919e+01],\n",
       "       [-8.45898961e+01, -8.69038000e+01],\n",
       "       [ 1.98204628e+02,  2.12166835e+02],\n",
       "       [-5.90289683e+01, -4.93157958e+01],\n",
       "       [-1.67511260e+02, -1.49769004e+02],\n",
       "       [-3.87185247e+01, -4.13342683e+01],\n",
       "       [-1.02410662e+02, -1.05438532e+02],\n",
       "       [-1.43004599e-01, -1.03907120e+01],\n",
       "       [ 1.95961591e+02,  1.94903271e+02],\n",
       "       [-1.13862787e+02, -1.12983216e+02],\n",
       "       [-1.10182555e+02, -9.35650532e+01],\n",
       "       [-5.67838622e+01, -6.08481976e+01],\n",
       "       [ 1.75558644e+02,  1.67980062e+02],\n",
       "       [ 6.64774288e+01,  7.44547202e+01],\n",
       "       [ 3.08100460e+02,  2.95241878e+02],\n",
       "       [ 3.77305084e+01,  4.89293753e+01],\n",
       "       [ 1.46473942e+02,  1.48131524e+02],\n",
       "       [-1.05557819e+02, -1.07321526e+02],\n",
       "       [-3.77159060e+01, -2.40728150e+01],\n",
       "       [-9.08484009e+01, -1.07260113e+02],\n",
       "       [ 1.76680868e+02,  1.79062525e+02],\n",
       "       [ 2.21886834e+02,  2.26599764e+02],\n",
       "       [-1.70002883e+02, -1.69754807e+02],\n",
       "       [-2.89872766e+01, -4.70420972e+01],\n",
       "       [-4.96518919e+01, -3.65674891e+01],\n",
       "       [ 1.31357306e+02,  1.35242002e+02],\n",
       "       [ 2.59944471e+02,  2.64075687e+02],\n",
       "       [-1.76777662e+00,  4.98696324e+00],\n",
       "       [ 2.32557238e+01,  3.61131676e+01],\n",
       "       [-1.90157793e+02, -1.99024972e+02],\n",
       "       [ 2.66151243e+02,  2.82523046e+02],\n",
       "       [-4.42864111e+01, -4.14172014e+01],\n",
       "       [-7.85779813e+00, -1.41761589e+01],\n",
       "       [ 9.75021482e-01, -4.66500793e+00],\n",
       "       [ 1.18016356e+02,  1.34490644e+02],\n",
       "       [-1.12933873e+02, -1.25147099e+02],\n",
       "       [-1.53366754e+02, -1.48448284e+02],\n",
       "       [ 3.14345806e+02,  3.13185829e+02],\n",
       "       [ 8.93110292e+00,  1.35268868e+01],\n",
       "       [-9.23852075e+00,  3.95726516e+00],\n",
       "       [-9.88739054e+01, -1.09047876e+02],\n",
       "       [ 6.24503862e+01,  7.40957640e+01],\n",
       "       [-1.54133120e+02, -1.62116433e+02],\n",
       "       [-1.03635597e+02, -9.53899049e+01],\n",
       "       [ 1.94263706e+02,  1.88280842e+02],\n",
       "       [-1.01989295e+02, -9.04855717e+01],\n",
       "       [-3.15492990e+01, -4.27757003e+01],\n",
       "       [ 5.16512208e+01,  5.34145921e+01],\n",
       "       [ 3.75072698e+01,  3.67785142e+01],\n",
       "       [ 5.54144260e+01,  5.72714957e+01],\n",
       "       [ 7.71978920e+01,  7.35816584e+01],\n",
       "       [ 8.43910037e+01,  7.73771626e+01],\n",
       "       [ 2.03718231e+02,  2.04786224e+02],\n",
       "       [ 6.93547278e+00, -3.31407988e-01],\n",
       "       [-3.51162904e+01, -2.73182250e+01],\n",
       "       [ 2.25899538e+02,  2.23525345e+02],\n",
       "       [-1.63974265e+02, -1.64770264e+02],\n",
       "       [ 2.25599861e+02,  2.35828897e+02],\n",
       "       [-3.48056634e+01, -4.42550667e+01],\n",
       "       [ 1.29938230e+02,  1.27910751e+02],\n",
       "       [ 1.56483660e+02,  1.62896370e+02],\n",
       "       [-5.01753967e+00, -5.66842615e+00],\n",
       "       [ 1.62046437e+01,  1.65578314e+01],\n",
       "       [-3.67978225e+01, -3.44660088e+01],\n",
       "       [ 2.02378246e+02,  2.25738617e+02],\n",
       "       [-8.66296696e+01, -9.71636630e+01],\n",
       "       [-7.86554620e+01, -8.26967074e+01],\n",
       "       [-1.93784347e+01, -8.85055965e+00],\n",
       "       [ 2.58654622e+01,  1.53014840e+01],\n",
       "       [-9.54413408e+01, -1.19382770e+02],\n",
       "       [-5.86141579e+01, -5.36884799e+01],\n",
       "       [ 2.55408031e+02,  2.54082396e+02],\n",
       "       [ 6.24724970e+01,  4.97077614e+01],\n",
       "       [ 2.81168873e+02,  2.85921073e+02],\n",
       "       [-1.40720979e+02, -1.67593324e+02],\n",
       "       [-1.70071313e+02, -1.67282521e+02],\n",
       "       [-8.86938431e+01, -8.23906969e+01],\n",
       "       [-2.08130772e+02, -2.05839713e+02],\n",
       "       [ 1.81252229e+02,  1.76880668e+02],\n",
       "       [ 1.57601873e+02,  1.66265532e+02],\n",
       "       [-1.05421263e+02, -1.12636798e+02],\n",
       "       [-9.02133372e+01, -9.96975666e+01],\n",
       "       [ 5.41078689e+01,  4.08399531e+01],\n",
       "       [ 1.89910154e+02,  1.98908974e+02],\n",
       "       [ 9.99688241e+01,  1.01619109e+02],\n",
       "       [-7.05509595e+01, -7.52210052e+01],\n",
       "       [-1.04366400e+01, -1.42728941e+01],\n",
       "       [-3.59896659e+01, -2.71114344e+01],\n",
       "       [ 1.35309810e+01,  2.89817309e+01],\n",
       "       [ 1.55105019e+01,  2.13878684e+01],\n",
       "       [ 8.95443342e+01,  8.51644290e+01],\n",
       "       [-1.66381604e+02, -1.54916689e+02],\n",
       "       [ 1.20580607e-01, -5.34160007e+00],\n",
       "       [-1.44355874e+02, -1.39440358e+02],\n",
       "       [-2.42667865e+00,  1.19760824e+01],\n",
       "       [ 2.97540838e+00, -1.28619379e+00],\n",
       "       [ 8.16900291e+01,  7.75057299e+01],\n",
       "       [ 1.73055619e+01,  1.35423073e+01],\n",
       "       [-9.93029519e+01, -9.36953261e+01],\n",
       "       [-3.45136738e+01, -4.87305272e+01],\n",
       "       [ 2.36602689e+01,  3.00431085e+01],\n",
       "       [-1.11479353e+02, -1.19387145e+02],\n",
       "       [-3.92008947e+01, -1.74229310e+01],\n",
       "       [ 5.39359098e+01,  5.86105834e+01],\n",
       "       [-1.32979316e+02, -1.33056959e+02],\n",
       "       [-2.16923184e+02, -2.03672453e+02],\n",
       "       [-2.21972672e+01, -2.89662906e+01],\n",
       "       [ 2.14886126e+02,  2.19731179e+02],\n",
       "       [ 1.42901698e+02,  1.21264021e+02],\n",
       "       [ 2.60175596e+02,  2.44267005e+02],\n",
       "       [ 1.32808258e+02,  1.30678109e+02],\n",
       "       [ 4.09834946e+01,  2.35418049e+01],\n",
       "       [-5.12455538e+00,  1.85976954e+01],\n",
       "       [ 1.28381534e+02,  1.31617753e+02],\n",
       "       [ 1.97107732e+02,  2.15091820e+02],\n",
       "       [-9.94509966e+01, -9.38508001e+01],\n",
       "       [-1.97380240e+02, -2.01339420e+02],\n",
       "       [-1.92213300e+02, -1.91043854e+02],\n",
       "       [ 7.47030113e+01,  6.04970732e+01],\n",
       "       [ 1.95287968e+02,  2.10397196e+02],\n",
       "       [ 2.62490126e+02,  2.55612609e+02],\n",
       "       [ 1.33947689e+02,  1.13686895e+02],\n",
       "       [ 3.69683344e+02,  3.66387389e+02],\n",
       "       [-1.06505088e+02, -8.26216359e+01],\n",
       "       [ 1.57561637e+02,  1.59175132e+02],\n",
       "       [ 5.51499317e+01,  5.66856153e+01],\n",
       "       [ 5.96590875e+01,  6.73935290e+01],\n",
       "       [ 7.17787809e+00,  1.01049470e+01],\n",
       "       [-1.88374360e+02, -1.77713531e+02],\n",
       "       [-2.36698002e+02, -2.51983124e+02],\n",
       "       [ 8.89280769e+01,  8.12273279e+01],\n",
       "       [ 8.68819585e+01,  8.45366471e+01],\n",
       "       [ 5.43031481e+01,  4.53736002e+01],\n",
       "       [ 5.66057488e+00, -4.09056012e+00],\n",
       "       [-1.37805271e+02, -1.29418149e+02],\n",
       "       [-1.15034225e+02, -1.15253170e+02],\n",
       "       [ 3.01550886e+01,  3.40913457e+01],\n",
       "       [ 1.44086050e+02,  1.31000605e+02],\n",
       "       [ 3.47084642e+01,  2.93938759e+01],\n",
       "       [-6.69856845e+01, -6.09256106e+01],\n",
       "       [-1.51543414e+01, -5.57555869e+00],\n",
       "       [-1.73518109e+02, -1.90399933e+02],\n",
       "       [ 5.38884741e+01,  5.77169631e+01],\n",
       "       [ 1.45808084e+02,  1.35937608e+02],\n",
       "       [ 2.40791945e+01,  2.20187863e+01],\n",
       "       [ 5.69258886e+01,  5.55403980e+01],\n",
       "       [ 1.06608681e+02,  8.76812341e+01],\n",
       "       [ 6.53890236e+01,  7.02241926e+01],\n",
       "       [ 5.72255953e+01,  4.82211672e+01]])"
      ]
     },
     "execution_count": 49,
     "metadata": {},
     "output_type": "execute_result"
    }
   ],
   "source": [
    "comp"
   ]
  },
  {
   "cell_type": "markdown",
   "metadata": {},
   "source": [
    "Checking the performance of the model\n"
   ]
  },
  {
   "cell_type": "code",
   "execution_count": 50,
   "metadata": {},
   "outputs": [],
   "source": [
    "def mean_squared_error(y, y_pred):\n",
    "    mse = (y - y_pred) ** 2\n",
    "    return np.mean(mse)\n"
   ]
  },
  {
   "cell_type": "code",
   "execution_count": 51,
   "metadata": {},
   "outputs": [
    {
     "data": {
      "text/plain": [
       "np.float64(98.17164547324532)"
      ]
     },
     "execution_count": 51,
     "metadata": {},
     "output_type": "execute_result"
    }
   ],
   "source": [
    "mean_squared_error(y_test, predictions)"
   ]
  },
  {
   "cell_type": "code",
   "execution_count": 52,
   "metadata": {},
   "outputs": [],
   "source": [
    "def mean_absolute_error(y, y_pred):\n",
    "    mae = np.abs(y - y_pred)\n",
    "    return np.mean(mae)"
   ]
  },
  {
   "cell_type": "code",
   "execution_count": 53,
   "metadata": {},
   "outputs": [
    {
     "data": {
      "text/plain": [
       "np.float64(8.058171001047903)"
      ]
     },
     "execution_count": 53,
     "metadata": {},
     "output_type": "execute_result"
    }
   ],
   "source": [
    "mean_absolute_error(y_test, predictions)"
   ]
  },
  {
   "cell_type": "code",
   "execution_count": null,
   "metadata": {},
   "outputs": [],
   "source": []
  }
 ],
 "metadata": {
  "kernelspec": {
   "display_name": "Python (my_env)",
   "language": "python",
   "name": "my_env"
  },
  "language_info": {
   "codemirror_mode": {
    "name": "ipython",
    "version": 3
   },
   "file_extension": ".py",
   "mimetype": "text/x-python",
   "name": "python",
   "nbconvert_exporter": "python",
   "pygments_lexer": "ipython3",
   "version": "3.13.0"
  },
  "polyglot_notebook": {
   "kernelInfo": {
    "defaultKernelName": "csharp",
    "items": [
     {
      "aliases": [],
      "name": "csharp"
     }
    ]
   }
  }
 },
 "nbformat": 4,
 "nbformat_minor": 2
}
