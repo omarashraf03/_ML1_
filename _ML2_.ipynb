{
 "cells": [
  {
   "cell_type": "code",
   "execution_count": 54,
   "metadata": {
    "dotnet_interactive": {
     "language": "csharp"
    },
    "polyglot_notebook": {
     "kernelName": "csharp"
    }
   },
   "outputs": [],
   "source": [
    "import pandas as pd\n",
    "import numpy as np\n",
    "from sklearn.datasets import make_regression"
   ]
  },
  {
   "cell_type": "code",
   "execution_count": 55,
   "metadata": {},
   "outputs": [],
   "source": [
    "X , y = make_regression(n_samples=1000 , n_features=3 , noise=10 , random_state=42)"
   ]
  },
  {
   "cell_type": "code",
   "execution_count": 56,
   "metadata": {},
   "outputs": [
    {
     "name": "stdout",
     "output_type": "stream",
     "text": [
      "(1000, 3)\n"
     ]
    }
   ],
   "source": [
    "print(X.shape)"
   ]
  },
  {
   "cell_type": "code",
   "execution_count": 57,
   "metadata": {},
   "outputs": [
    {
     "name": "stdout",
     "output_type": "stream",
     "text": [
      "(1000,)\n"
     ]
    }
   ],
   "source": [
    "print(y.shape)"
   ]
  },
  {
   "cell_type": "code",
   "execution_count": 58,
   "metadata": {},
   "outputs": [],
   "source": [
    "X = np.c_[np.ones(X.shape[0]), X]"
   ]
  },
  {
   "cell_type": "code",
   "execution_count": 59,
   "metadata": {},
   "outputs": [],
   "source": [
    "y = y.reshape(len(y),1)"
   ]
  },
  {
   "cell_type": "code",
   "execution_count": 60,
   "metadata": {},
   "outputs": [],
   "source": [
    "from sklearn.model_selection import train_test_split\n",
    "X_train, X_test, y_train, y_test = train_test_split(X, y, test_size=0.2, random_state=42)"
   ]
  },
  {
   "cell_type": "code",
   "execution_count": 61,
   "metadata": {},
   "outputs": [],
   "source": [
    "def calculate_loss(X, y, weights):\n",
    "    \n",
    "# # Example data\n",
    "# X = np.array([[1, 2], [3, 4], [5, 6]])  \n",
    "# y = np.array([5, 11, 17])              \n",
    "# weights = np.array([1, 1])             \n",
    "\n",
    "    #  Calculate predictions by multiplying inputs (X) with weights:)\n",
    "    predictions = X.dot(weights)    #predictions=[1⋅1+2⋅1,3⋅1+4⋅1,5⋅1+6⋅1]=[3,7,11]\n",
    "    \n",
    "    #  Calculate the errors (difference between predictions and actual values):)\n",
    "    errors = predictions - y  #errors=[3−5,7−11,11−17]=[−2,−4,−6]\n",
    "    \n",
    "    # Calculate Mean Squared Error (MSE):)\n",
    "    mse = np.mean(errors ** 2)   #mse=error **2/the number of samples  \n",
    "    \n",
    "    #  Divide by 2 to match the gradient calculation format:)\n",
    "    loss = mse / 2  \n",
    "    \n",
    "    return loss"
   ]
  },
  {
   "cell_type": "markdown",
   "metadata": {},
   "source": [
    "Gradient Descent"
   ]
  },
  {
   "cell_type": "code",
   "execution_count": 62,
   "metadata": {},
   "outputs": [],
   "source": [
    "def gradient_descent(X, y, num_iterations , freq_print):\n",
    "    alpha = 0.001\n",
    "    W = np.random.randn(X.shape[1], 1)\n",
    "    for i in range(num_iterations) :    \n",
    "        yhat = X.dot(W)\n",
    "        error = yhat - y\n",
    "        gradient = X.T.dot(error)\n",
    "        W = W - alpha * gradient / len(X)\n",
    "        if i % freq_print == 0:\n",
    "            print(calculate_loss(X , y , W))\n",
    "        \n",
    "        \n",
    "    return W             "
   ]
  },
  {
   "cell_type": "code",
   "execution_count": 63,
   "metadata": {},
   "outputs": [
    {
     "name": "stdout",
     "output_type": "stream",
     "text": [
      "8623.773822508063\n",
      "1258.645602129646\n",
      "234.32705135837605\n",
      "79.73275675928022\n",
      "54.50717756389231\n",
      "50.09732091589181\n",
      "49.281976727681034\n",
      "49.12472572267961\n",
      "49.093475920034834\n",
      "49.087138381050046\n"
     ]
    }
   ],
   "source": [
    "W = gradient_descent(X_test , y_test , 10000 , 1000)"
   ]
  },
  {
   "cell_type": "code",
   "execution_count": 64,
   "metadata": {},
   "outputs": [
    {
     "data": {
      "text/plain": [
       "array([[ 1.60789256],\n",
       "       [98.19382595],\n",
       "       [81.98366123],\n",
       "       [25.92512203]])"
      ]
     },
     "execution_count": 64,
     "metadata": {},
     "output_type": "execute_result"
    }
   ],
   "source": [
    "W "
   ]
  },
  {
   "cell_type": "markdown",
   "metadata": {},
   "source": [
    "To test the gradient descent"
   ]
  },
  {
   "cell_type": "markdown",
   "metadata": {},
   "source": [
    "this function give the most efficient weight and I print the loss for this weight"
   ]
  },
  {
   "cell_type": "code",
   "execution_count": 65,
   "metadata": {},
   "outputs": [],
   "source": [
    "def least_weight(X, y):\n",
    "    X_transpose = X.T\n",
    "    W = np.linalg.inv(X_transpose @ X) @ X_transpose @ y\n",
    "    \n",
    "    \n",
    "    return W\n",
    "    "
   ]
  },
  {
   "cell_type": "markdown",
   "metadata": {},
   "source": [
    "print the output for the test data withe the most efficient weights"
   ]
  },
  {
   "cell_type": "code",
   "execution_count": 66,
   "metadata": {},
   "outputs": [
    {
     "name": "stdout",
     "output_type": "stream",
     "text": [
      "49.08549457182744\n"
     ]
    }
   ],
   "source": [
    "print(calculate_loss(X_test,y_test,least_weight(X_test,y_test)))"
   ]
  },
  {
   "cell_type": "markdown",
   "metadata": {},
   "source": [
    "The gradient descent final loss output is almost equal to the least loss output.......................\n",
    "                                   49.087106110189694  |||  49.08549457182744"
   ]
  },
  {
   "cell_type": "markdown",
   "metadata": {},
   "source": [
    "Predicting the output for the test data"
   ]
  },
  {
   "cell_type": "code",
   "execution_count": 67,
   "metadata": {},
   "outputs": [],
   "source": [
    "def predict(W, X):\n",
    "    return X.dot(W)"
   ]
  },
  {
   "cell_type": "code",
   "execution_count": 68,
   "metadata": {},
   "outputs": [],
   "source": [
    "predictions = predict(W, X_test)"
   ]
  },
  {
   "cell_type": "code",
   "execution_count": 69,
   "metadata": {},
   "outputs": [],
   "source": [
    "comp = np.concatenate((predictions.reshape(len(predictions),1),y_test),axis=1)"
   ]
  },
  {
   "cell_type": "code",
   "execution_count": 70,
   "metadata": {},
   "outputs": [
    {
     "data": {
      "text/plain": [
       "array([[-7.48480516e+01, -8.22932793e+01],\n",
       "       [ 1.12992998e+02,  1.04807640e+02],\n",
       "       [ 5.11004336e+01,  5.51531708e+01],\n",
       "       [ 1.80672430e+02,  1.75842100e+02],\n",
       "       [-2.25489115e+01, -1.28221444e+01],\n",
       "       [-1.62555884e+02, -1.58696775e+02],\n",
       "       [ 1.34343389e+02,  1.17792000e+02],\n",
       "       [ 6.92082751e+01,  6.45922450e+01],\n",
       "       [ 2.31855558e+02,  2.36283381e+02],\n",
       "       [-1.12751845e+02, -1.09113405e+02],\n",
       "       [-1.06858838e+02, -1.03799700e+02],\n",
       "       [ 1.18704144e+02,  1.14628724e+02],\n",
       "       [ 3.13584244e+01,  3.15693700e+01],\n",
       "       [-1.59157790e+01,  2.21697784e+00],\n",
       "       [ 3.81891418e+01,  4.32591823e+01],\n",
       "       [-4.93418277e+01, -4.58647575e+01],\n",
       "       [-1.90626635e+02, -1.81070715e+02],\n",
       "       [ 6.19596537e+01,  7.58102653e+01],\n",
       "       [-7.78907615e+00, -6.02334948e+00],\n",
       "       [ 4.37302086e+01,  2.62678736e+01],\n",
       "       [ 1.02933391e+02,  1.01897247e+02],\n",
       "       [ 3.86025771e+01,  4.45269699e+01],\n",
       "       [-1.27620252e+02, -1.25496420e+02],\n",
       "       [ 1.58377734e+01,  2.63333998e+01],\n",
       "       [-1.71954925e+02, -1.73388531e+02],\n",
       "       [ 9.24818659e+01,  7.71651941e+01],\n",
       "       [ 3.04311796e+00, -4.21694282e+00],\n",
       "       [-7.23966611e+01, -7.87729556e+01],\n",
       "       [-6.44754764e+01, -7.56552397e+01],\n",
       "       [-4.84696040e+01, -4.01197625e+01],\n",
       "       [ 1.35677445e+02,  1.28330273e+02],\n",
       "       [-5.65443037e+01, -4.92045714e+01],\n",
       "       [ 7.78074395e+01,  7.75149528e+01],\n",
       "       [-3.00458058e+02, -3.08577881e+02],\n",
       "       [ 3.57115451e+01,  3.42485328e+01],\n",
       "       [-9.51720401e+00, -2.04777288e+00],\n",
       "       [-9.42698044e+01, -9.96816300e+01],\n",
       "       [ 1.92615770e+02,  2.06360985e+02],\n",
       "       [-9.28535293e+01, -1.03339227e+02],\n",
       "       [ 3.58477522e+02,  3.50629206e+02],\n",
       "       [ 5.64371295e+01,  6.75980784e+01],\n",
       "       [ 9.37619080e+01,  1.00790894e+02],\n",
       "       [-7.42400627e+01, -8.98388889e+01],\n",
       "       [ 7.89325396e+01,  9.07312749e+01],\n",
       "       [ 9.00273300e+01,  8.61367727e+01],\n",
       "       [ 1.59698598e+02,  1.50428411e+02],\n",
       "       [-5.31165710e+01, -7.02896451e+01],\n",
       "       [ 6.34378536e+01,  5.42356769e+01],\n",
       "       [-1.09123298e+02, -1.14250789e+02],\n",
       "       [ 5.25369664e+01,  7.35820355e+01],\n",
       "       [ 2.02633451e+02,  1.96236913e+02],\n",
       "       [-2.82427433e+01, -1.78605919e+01],\n",
       "       [-8.45890003e+01, -8.69038000e+01],\n",
       "       [ 1.98204409e+02,  2.12166835e+02],\n",
       "       [-5.90282062e+01, -4.93157958e+01],\n",
       "       [-1.67510369e+02, -1.49769004e+02],\n",
       "       [-3.87180838e+01, -4.13342683e+01],\n",
       "       [-1.02409854e+02, -1.05438532e+02],\n",
       "       [-1.42491694e-01, -1.03907120e+01],\n",
       "       [ 1.95961643e+02,  1.94903271e+02],\n",
       "       [-1.13862503e+02, -1.12983216e+02],\n",
       "       [-1.10181898e+02, -9.35650532e+01],\n",
       "       [-5.67836409e+01, -6.08481976e+01],\n",
       "       [ 1.75558463e+02,  1.67980062e+02],\n",
       "       [ 6.64775749e+01,  7.44547202e+01],\n",
       "       [ 3.08100143e+02,  2.95241878e+02],\n",
       "       [ 3.77306317e+01,  4.89293753e+01],\n",
       "       [ 1.46474087e+02,  1.48131524e+02],\n",
       "       [-1.05557079e+02, -1.07321526e+02],\n",
       "       [-3.77151242e+01, -2.40728150e+01],\n",
       "       [-9.08475438e+01, -1.07260113e+02],\n",
       "       [ 1.76680332e+02,  1.79062525e+02],\n",
       "       [ 2.21886529e+02,  2.26599764e+02],\n",
       "       [-1.70001967e+02, -1.69754807e+02],\n",
       "       [-2.89868791e+01, -4.70420972e+01],\n",
       "       [-4.96511686e+01, -3.65674891e+01],\n",
       "       [ 1.31357197e+02,  1.35242002e+02],\n",
       "       [ 2.59943959e+02,  2.64075687e+02],\n",
       "       [-1.76726714e+00,  4.98696324e+00],\n",
       "       [ 2.32562158e+01,  3.61131676e+01],\n",
       "       [-1.90156956e+02, -1.99024972e+02],\n",
       "       [ 2.66150379e+02,  2.82523046e+02],\n",
       "       [-4.42860323e+01, -4.14172014e+01],\n",
       "       [-7.85762757e+00, -1.41761589e+01],\n",
       "       [ 9.75537088e-01, -4.66500793e+00],\n",
       "       [ 1.18016517e+02,  1.34490644e+02],\n",
       "       [-1.12933307e+02, -1.25147099e+02],\n",
       "       [-1.53365692e+02, -1.48448284e+02],\n",
       "       [ 3.14345207e+02,  3.13185829e+02],\n",
       "       [ 8.93111769e+00,  1.35268868e+01],\n",
       "       [-9.23786539e+00,  3.95726516e+00],\n",
       "       [-9.88732750e+01, -1.09047876e+02],\n",
       "       [ 6.24504469e+01,  7.40957640e+01],\n",
       "       [-1.54132555e+02, -1.62116433e+02],\n",
       "       [-1.03634831e+02, -9.53899049e+01],\n",
       "       [ 1.94263713e+02,  1.88280842e+02],\n",
       "       [-1.01988795e+02, -9.04855717e+01],\n",
       "       [-3.15492166e+01, -4.27757003e+01],\n",
       "       [ 5.16515000e+01,  5.34145921e+01],\n",
       "       [ 3.75074884e+01,  3.67785142e+01],\n",
       "       [ 5.54147040e+01,  5.72714957e+01],\n",
       "       [ 7.71979721e+01,  7.35816584e+01],\n",
       "       [ 8.43918780e+01,  7.73771626e+01],\n",
       "       [ 2.03718358e+02,  2.04786224e+02],\n",
       "       [ 6.93601503e+00, -3.31407988e-01],\n",
       "       [-3.51160761e+01, -2.73182250e+01],\n",
       "       [ 2.25899233e+02,  2.23525345e+02],\n",
       "       [-1.63973425e+02, -1.64770264e+02],\n",
       "       [ 2.25599468e+02,  2.35828897e+02],\n",
       "       [-3.48050412e+01, -4.42550667e+01],\n",
       "       [ 1.29938658e+02,  1.27910751e+02],\n",
       "       [ 1.56483237e+02,  1.62896370e+02],\n",
       "       [-5.01700776e+00, -5.66842615e+00],\n",
       "       [ 1.62049712e+01,  1.65578314e+01],\n",
       "       [-3.67972356e+01, -3.44660088e+01],\n",
       "       [ 2.02378313e+02,  2.25738617e+02],\n",
       "       [-8.66292524e+01, -9.71636630e+01],\n",
       "       [-7.86546912e+01, -8.26967074e+01],\n",
       "       [-1.93783258e+01, -8.85055965e+00],\n",
       "       [ 2.58657873e+01,  1.53014840e+01],\n",
       "       [-9.54408568e+01, -1.19382770e+02],\n",
       "       [-5.86136475e+01, -5.36884799e+01],\n",
       "       [ 2.55407889e+02,  2.54082396e+02],\n",
       "       [ 6.24730227e+01,  4.97077614e+01],\n",
       "       [ 2.81168591e+02,  2.85921073e+02],\n",
       "       [-1.40720037e+02, -1.67593324e+02],\n",
       "       [-1.70070755e+02, -1.67282521e+02],\n",
       "       [-8.86929638e+01, -8.23906969e+01],\n",
       "       [-2.08129598e+02, -2.05839713e+02],\n",
       "       [ 1.81251953e+02,  1.76880668e+02],\n",
       "       [ 1.57601837e+02,  1.66265532e+02],\n",
       "       [-1.05420957e+02, -1.12636798e+02],\n",
       "       [-9.02129053e+01, -9.96975666e+01],\n",
       "       [ 5.41079425e+01,  4.08399531e+01],\n",
       "       [ 1.89910065e+02,  1.98908974e+02],\n",
       "       [ 9.99688975e+01,  1.01619109e+02],\n",
       "       [-7.05506438e+01, -7.52210052e+01],\n",
       "       [-1.04364504e+01, -1.42728941e+01],\n",
       "       [-3.59888106e+01, -2.71114344e+01],\n",
       "       [ 1.35309680e+01,  2.89817309e+01],\n",
       "       [ 1.55109413e+01,  2.13878684e+01],\n",
       "       [ 8.95444244e+01,  8.51644290e+01],\n",
       "       [-1.66380814e+02, -1.54916689e+02],\n",
       "       [ 1.20895062e-01, -5.34160007e+00],\n",
       "       [-1.44354749e+02, -1.39440358e+02],\n",
       "       [-2.42637999e+00,  1.19760824e+01],\n",
       "       [ 2.97589223e+00, -1.28619379e+00],\n",
       "       [ 8.16901266e+01,  7.75057299e+01],\n",
       "       [ 1.73057361e+01,  1.35423073e+01],\n",
       "       [-9.93027115e+01, -9.36953261e+01],\n",
       "       [-3.45126045e+01, -4.87305272e+01],\n",
       "       [ 2.36604497e+01,  3.00431085e+01],\n",
       "       [-1.11478576e+02, -1.19387145e+02],\n",
       "       [-3.92004288e+01, -1.74229310e+01],\n",
       "       [ 5.39363699e+01,  5.86105834e+01],\n",
       "       [-1.32978620e+02, -1.33056959e+02],\n",
       "       [-2.16922334e+02, -2.03672453e+02],\n",
       "       [-2.21969033e+01, -2.89662906e+01],\n",
       "       [ 2.14886036e+02,  2.19731179e+02],\n",
       "       [ 1.42901764e+02,  1.21264021e+02],\n",
       "       [ 2.60175181e+02,  2.44267005e+02],\n",
       "       [ 1.32808078e+02,  1.30678109e+02],\n",
       "       [ 4.09835070e+01,  2.35418049e+01],\n",
       "       [-5.12407689e+00,  1.85976954e+01],\n",
       "       [ 1.28382065e+02,  1.31617753e+02],\n",
       "       [ 1.97107743e+02,  2.15091820e+02],\n",
       "       [-9.94500032e+01, -9.38508001e+01],\n",
       "       [-1.97378945e+02, -2.01339420e+02],\n",
       "       [-1.92212227e+02, -1.91043854e+02],\n",
       "       [ 7.47028470e+01,  6.04970732e+01],\n",
       "       [ 1.95287839e+02,  2.10397196e+02],\n",
       "       [ 2.62489880e+02,  2.55612609e+02],\n",
       "       [ 1.33947409e+02,  1.13686895e+02],\n",
       "       [ 3.69682792e+02,  3.66387389e+02],\n",
       "       [-1.06504680e+02, -8.26216359e+01],\n",
       "       [ 1.57561671e+02,  1.59175132e+02],\n",
       "       [ 5.51501617e+01,  5.66856153e+01],\n",
       "       [ 5.96600367e+01,  6.73935290e+01],\n",
       "       [ 7.17869839e+00,  1.01049470e+01],\n",
       "       [-1.88373430e+02, -1.77713531e+02],\n",
       "       [-2.36696989e+02, -2.51983124e+02],\n",
       "       [ 8.89279432e+01,  8.12273279e+01],\n",
       "       [ 8.68818789e+01,  8.45366471e+01],\n",
       "       [ 5.43031959e+01,  4.53736002e+01],\n",
       "       [ 5.66089928e+00, -4.09056012e+00],\n",
       "       [-1.37804282e+02, -1.29418149e+02],\n",
       "       [-1.15033177e+02, -1.15253170e+02],\n",
       "       [ 3.01552803e+01,  3.40913457e+01],\n",
       "       [ 1.44085945e+02,  1.31000605e+02],\n",
       "       [ 3.47090789e+01,  2.93938759e+01],\n",
       "       [-6.69852826e+01, -6.09256106e+01],\n",
       "       [-1.51539390e+01, -5.57555869e+00],\n",
       "       [-1.73517626e+02, -1.90399933e+02],\n",
       "       [ 5.38883631e+01,  5.77169631e+01],\n",
       "       [ 1.45807664e+02,  1.35937608e+02],\n",
       "       [ 2.40792160e+01,  2.20187863e+01],\n",
       "       [ 5.69259833e+01,  5.55403980e+01],\n",
       "       [ 1.06608722e+02,  8.76812341e+01],\n",
       "       [ 6.53886688e+01,  7.02241926e+01],\n",
       "       [ 5.72258975e+01,  4.82211672e+01]])"
      ]
     },
     "execution_count": 70,
     "metadata": {},
     "output_type": "execute_result"
    }
   ],
   "source": [
    "comp"
   ]
  },
  {
   "cell_type": "markdown",
   "metadata": {},
   "source": [
    "Checking the performance of the model\n"
   ]
  },
  {
   "cell_type": "code",
   "execution_count": 71,
   "metadata": {},
   "outputs": [],
   "source": [
    "def mean_squared_error(y, y_pred):\n",
    "    mse = (y - y_pred) ** 2\n",
    "    return np.mean(mse)\n"
   ]
  },
  {
   "cell_type": "code",
   "execution_count": 72,
   "metadata": {},
   "outputs": [
    {
     "data": {
      "text/plain": [
       "np.float64(98.17167269487587)"
      ]
     },
     "execution_count": 72,
     "metadata": {},
     "output_type": "execute_result"
    }
   ],
   "source": [
    "mean_squared_error(y_test, predictions)"
   ]
  },
  {
   "cell_type": "code",
   "execution_count": 73,
   "metadata": {},
   "outputs": [],
   "source": [
    "def mean_absolute_error(y, y_pred):\n",
    "    mae = np.abs(y - y_pred)\n",
    "    return np.mean(mae)"
   ]
  },
  {
   "cell_type": "code",
   "execution_count": 74,
   "metadata": {},
   "outputs": [
    {
     "data": {
      "text/plain": [
       "np.float64(8.058155216434699)"
      ]
     },
     "execution_count": 74,
     "metadata": {},
     "output_type": "execute_result"
    }
   ],
   "source": [
    "mean_absolute_error(y_test, predictions)"
   ]
  },
  {
   "cell_type": "code",
   "execution_count": null,
   "metadata": {},
   "outputs": [],
   "source": []
  }
 ],
 "metadata": {
  "kernelspec": {
   "display_name": "Python (my_env)",
   "language": "python",
   "name": "my_env"
  },
  "language_info": {
   "codemirror_mode": {
    "name": "ipython",
    "version": 3
   },
   "file_extension": ".py",
   "mimetype": "text/x-python",
   "name": "python",
   "nbconvert_exporter": "python",
   "pygments_lexer": "ipython3",
   "version": "3.13.0"
  },
  "polyglot_notebook": {
   "kernelInfo": {
    "defaultKernelName": "csharp",
    "items": [
     {
      "aliases": [],
      "name": "csharp"
     }
    ]
   }
  }
 },
 "nbformat": 4,
 "nbformat_minor": 2
}
